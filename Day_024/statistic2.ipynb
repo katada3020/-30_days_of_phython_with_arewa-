{
 "cells": [
  {
   "cell_type": "code",
   "execution_count": 8,
   "id": "e44b6267",
   "metadata": {},
   "outputs": [
    {
     "data": {
      "text/plain": [
       "array([ 67.50891724,  72.89005186,  95.45117286,  85.36115898,\n",
       "        71.93268533,  86.83792569,  87.41600931, 111.57074767,\n",
       "        64.54179064, 126.09083235,  89.75312368,  89.02012293,\n",
       "        82.11778331,  65.06940855,  94.89811193,  72.48806291,\n",
       "        80.09857279,  81.29068083, 111.56475372,  67.49098692,\n",
       "        58.37796096,  65.64193685,  84.297826  ,  54.060561  ,\n",
       "       105.64564623,  78.83191553,  62.64045632,  52.51811183,\n",
       "        87.35285791, 110.99393818,  77.88466293,  53.87032914,\n",
       "        94.07527201,  73.84849988,  96.1245307 ,  48.37264311,\n",
       "        93.25710871,  58.29394125,  84.9913567 ,  96.32883709,\n",
       "        61.87633097,  63.3230729 ,  69.21377066,  87.46371644,\n",
       "        73.93840695,  95.74450711,  72.3467869 ,  66.10799355,\n",
       "        73.27327077,  75.83316287, 103.51650488,  75.39133298,\n",
       "        65.52723474,  63.36213591,  91.44993077,  97.15191922,\n",
       "        89.97104038,  61.50547267,  62.34052926,  79.35900746,\n",
       "        74.41812365,  66.9310718 ,  65.60297862,  83.86077433,\n",
       "        82.50319116,  62.61166275,  63.76936411,  78.81113993,\n",
       "        88.69338081,  86.66568088,  96.55734601,  83.75582963,\n",
       "        80.83172868,  90.09357851,  93.23955058,  87.85687713,\n",
       "        83.63464564,  51.5824853 ,  62.52082809,  56.62778868])"
      ]
     },
     "execution_count": 8,
     "metadata": {},
     "output_type": "execute_result"
    }
   ],
   "source": [
    " import numpy as np\n",
    "    # np.random.normal(mu, sigma, size)\n",
    "normal_array = np.random.normal(79, 15, 80)\n",
    "normal_array\n",
    "\n"
   ]
  },
  {
   "cell_type": "code",
   "execution_count": null,
   "id": "c8638ee3",
   "metadata": {},
   "outputs": [],
   "source": []
  },
  {
   "cell_type": "code",
   "execution_count": null,
   "id": "ee8a965c",
   "metadata": {},
   "outputs": [],
   "source": [
    ","
   ]
  },
  {
   "cell_type": "code",
   "execution_count": null,
   "id": "3416e0cf",
   "metadata": {},
   "outputs": [],
   "source": []
  },
  {
   "cell_type": "code",
   "execution_count": 12,
   "id": "041f20fd",
   "metadata": {},
   "outputs": [
    {
     "data": {
      "text/plain": [
       "matrix([[1., 1., 1., 1.],\n",
       "        [1., 1., 1., 1.],\n",
       "        [2., 2., 2., 2.],\n",
       "        [1., 1., 1., 1.]])"
      ]
     },
     "execution_count": 12,
     "metadata": {},
     "output_type": "execute_result"
    }
   ],
   "source": [
    "np.asarray(four_by_four_matrix)[2] = 2\n",
    "four_by_four_matrix"
   ]
  },
  {
   "cell_type": "code",
   "execution_count": 13,
   "id": "166003ea",
   "metadata": {},
   "outputs": [
    {
     "name": "stdout",
     "output_type": "stream",
     "text": [
      "0\n",
      "2\n",
      "4\n",
      "6\n",
      "8\n",
      "10\n"
     ]
    }
   ],
   "source": [
    "# creating list using range(starting, stop, step)\n",
    "lst = range(0, 11, 2)\n",
    "lst\n",
    "range(0, 11, 2)\n",
    "for l in lst:\n",
    "    print(l)"
   ]
  },
  {
   "cell_type": "code",
   "execution_count": 14,
   "id": "a5e2c199",
   "metadata": {},
   "outputs": [
    {
     "data": {
      "text/plain": [
       "array([ 0,  1,  2,  3,  4,  5,  6,  7,  8,  9, 10, 11, 12, 13, 14, 15, 16,\n",
       "       17, 18, 19])"
      ]
     },
     "execution_count": 14,
     "metadata": {},
     "output_type": "execute_result"
    }
   ],
   "source": [
    "# Similar to range arange numpy.arange(start, stop, step)\n",
    "whole_numbers = np.arange(0, 20, 1)\n",
    "whole_numbers"
   ]
  },
  {
   "cell_type": "code",
   "execution_count": 16,
   "id": "381c29f0",
   "metadata": {},
   "outputs": [
    {
     "data": {
      "text/plain": [
       "array([ 1,  3,  5,  7,  9, 11, 13, 15, 17, 19])"
      ]
     },
     "execution_count": 16,
     "metadata": {},
     "output_type": "execute_result"
    }
   ],
   "source": [
    "Odd_numbers =np.arange(1,20,2)\n",
    "Odd_numbers"
   ]
  },
  {
   "cell_type": "code",
   "execution_count": 19,
   "id": "2dcd1672",
   "metadata": {},
   "outputs": [
    {
     "data": {
      "text/plain": [
       "array([ 0,  2,  4,  6,  8, 10, 12, 14, 16, 18])"
      ]
     },
     "execution_count": 19,
     "metadata": {},
     "output_type": "execute_result"
    }
   ],
   "source": [
    "Even_numbers = np.arange(0,20,2)\n",
    "Even_numbers"
   ]
  },
  {
   "cell_type": "code",
   "execution_count": 20,
   "id": "5e543ea3",
   "metadata": {},
   "outputs": [
    {
     "data": {
      "text/plain": [
       "array([ 1,  2,  3,  4,  5,  6,  7,  8,  9, 10, 11, 12, 13, 14, 15, 16, 17,\n",
       "       18, 19])"
      ]
     },
     "execution_count": 20,
     "metadata": {},
     "output_type": "execute_result"
    }
   ],
   "source": [
    "Natural_numbers = np.arange(1,20,1)\n",
    "Natural_numbers\n"
   ]
  },
  {
   "cell_type": "code",
   "execution_count": 23,
   "id": "ef5fc4c3",
   "metadata": {},
   "outputs": [
    {
     "ename": "NameError",
     "evalue": "name 'np_normal_' is not defined",
     "output_type": "error",
     "traceback": [
      "\u001b[0;31m---------------------------------------------------------------------------\u001b[0m",
      "\u001b[0;31mNameError\u001b[0m                                 Traceback (most recent call last)",
      "Cell \u001b[0;32mIn[23], line 2\u001b[0m\n\u001b[1;32m      1\u001b[0m np_normal_dis \u001b[38;5;241m=\u001b[39m np\u001b[38;5;241m.\u001b[39mrandom\u001b[38;5;241m.\u001b[39mnormal(\u001b[38;5;241m5\u001b[39m, \u001b[38;5;241m0.5\u001b[39m, \u001b[38;5;241m100\u001b[39m)\n\u001b[0;32m----> 2\u001b[0m \u001b[43mnp_normal_\u001b[49m\n",
      "\u001b[0;31mNameError\u001b[0m: name 'np_normal_' is not defined"
     ]
    }
   ],
   "source": [
    "np_normal_dis = np.random.normal(5, 0.5, 100)\n",
    "np_normal_dis"
   ]
  },
  {
   "cell_type": "code",
   "execution_count": null,
   "id": "01fa8ba6",
   "metadata": {},
   "outputs": [],
   "source": []
  }
 ],
 "metadata": {
  "kernelspec": {
   "display_name": "Python 3 (ipykernel)",
   "language": "python",
   "name": "python3"
  },
  "language_info": {
   "codemirror_mode": {
    "name": "ipython",
    "version": 3
   },
   "file_extension": ".py",
   "mimetype": "text/x-python",
   "name": "python",
   "nbconvert_exporter": "python",
   "pygments_lexer": "ipython3",
   "version": "3.9.7"
  }
 },
 "nbformat": 4,
 "nbformat_minor": 5
}
